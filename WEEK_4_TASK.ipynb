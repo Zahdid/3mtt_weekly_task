{
 "cells": [
  {
   "cell_type": "markdown",
   "id": "143f25c8",
   "metadata": {},
   "source": [
    "# QUESTION: Build a python program utilizing data structures, conditional statement and functions to solve a data related task"
   ]
  },
  {
   "cell_type": "markdown",
   "id": "3090d5eb",
   "metadata": {},
   "source": [
    "### Considering a scenario where people have to que in line in the bank just to get there bvn details. The below python program is built to help the bank customers who needed to get there bvn information. With these program they can easily get there bvn information without waiting in que all they need is there pin and first name"
   ]
  },
  {
   "cell_type": "markdown",
   "id": "be22f51c",
   "metadata": {},
   "source": [
    "### program parameters:-\n",
    "###                                        * Data structures(dictionary)\n",
    "###                                        * Conditional statement (If, elif, else)\n",
    "###                                        * Import library\n",
    "###                                        * Use liberary to mask password input\n",
    "###                                        * Use 1234 as default password"
   ]
  },
  {
   "cell_type": "markdown",
   "id": "0672f316",
   "metadata": {},
   "source": [
    "## creating a dictionary of Bank Account information"
   ]
  },
  {
   "cell_type": "markdown",
   "id": "15d1d6c9",
   "metadata": {},
   "source": [
    "### 1. using dictionary as database for Bank customers"
   ]
  },
  {
   "cell_type": "code",
   "execution_count": 10,
   "id": "8edd6a88",
   "metadata": {},
   "outputs": [
    {
     "name": "stdout",
     "output_type": "stream",
     "text": [
      "-------------WELCOME TO VOOSTECH BANK LIMITED-----------\n",
      "-------------LOGIN----------\n",
      "Please Enter Your Secret Number:- ········\n",
      "\n",
      "Password Accepted \n",
      "YOU ARE IN....\n",
      "Enter Your First Name:- nura\n",
      "\n",
      "--------Invalid User------- \n",
      "Please Check Your Name And Try Again Later\n"
     ]
    }
   ],
   "source": [
    "# creating bank profiles\n",
    "aisha = {\"Account name:-\" : \"Aisha Yakubu\" , \"Account number:-\" : \"2541965410\" , \"Gender:-\" : \"Female\" , \"D.O.B:-\" : \"20/05/2009\" , \"B.V.N\" : \"55539889004\"}\n",
    "zaharadeen = {\"Account name:-\" : \"Zaharadeen Yakubu\" , \"Account number:-\" : \"8099488896\" , \"Gender:-\" : \"Male\" , \"D.O.B:-\" : \"29/05/2000\" , \"B.V.N\" : \"22225304174\"}\n",
    "hamza = {\"Account name:-\" : \"Hamza Abdulaziz\" , \"Account number:-\" : \"7425416300\" , \"Gender:-\" : \"Male\" , \"D.O.B:-\" : \"05/05/2001\" , \"B.V.N\" : \"47775288541\"}\n",
    "maryam = {\"Account name:-\" : \"Maryam Sani\" , \"Account number:-\" : \"0024527785\" , \"Gender:-\" : \"Female\" , \"D.O.B:-\" : \"10/07/1999\" , \"B.V.N\" : \"44456328410\"}\n",
    "fatima = {\"Account name:-\" : \"Fatima Yakubu\" , \"Account number:-\" : \"9897472120\" , \"Gender:-\" : \"Female\" , \"D.O.B:-\" : \"06/10/1998\" , \"B.V.N\" : \"74521886567\"}\n",
    "alhassan = {\"Account name:-\" : \"Alhassan Abdullahi\" , \"Account number:-\" : \"4880030047\" , \"Gender:-\" : \"Male\" , \"D.O.B:-\" : \"23/11/1995\" , \"B.V.N\" : \"0066327482\"}\n",
    "\n",
    "# dsplaying Bank Name for interface\n",
    "print(\"-------------WELCOME TO VOOSTECH BANK LIMITED-----------\")\n",
    "# displaying login in the interface header\n",
    "print(\"-------------LOGIN----------\")\n",
    "\n",
    "# importing getpass liberary\n",
    "from getpass import getpass\n",
    "# masking longin password using getpass\n",
    "passw = getpass(\"Please Enter Your Secret Number:- \")\n",
    "# using conditional statement to create arguments\n",
    "if (passw ==\"1234\"):\n",
    "    print(\"\\nPassword Accepted\", (\"\\nYOU ARE IN....\"))\n",
    "elif (passw != \"1234\"):\n",
    "    print(\"\\nSorry Incorrect Password Try Again....\")\n",
    "else:\n",
    "    print(\"Please Restart Program....\")\n",
    "\n",
    "\n",
    "# passing argument for accessing customers info in database\n",
    "profile = input(\"Enter Your First Name:- \")\n",
    "if profile.lower() == \"aisha\":\n",
    "    print(aisha)\n",
    "elif profile.lower() == \"zaharadeen\":\n",
    "    print(zaharadeen)\n",
    "elif profile.lower() == ''\"hamza\":\n",
    "    print(hamza)\n",
    "elif profile.lower() == \"maryam\":\n",
    "    print(maryam)\n",
    "elif profile.lower() == \"fatima\":\n",
    "    print(fatima)\n",
    "elif profile.lower() == \"alhassan\":\n",
    "    print(alhassan)\n",
    "elif profile.lower() ==\"\":\n",
    "    print(\"\\n--------ERROR!!!--------\" , (\"\\nPlease Restart And Enter Your Bank Account First Name \"))\n",
    "else:\n",
    "    print(\"\\n--------Invalid User-------\" , (\"\\nPlease Check Your Name And Try Again Later\"))"
   ]
  },
  {
   "cell_type": "code",
   "execution_count": null,
   "id": "bb1bfb94",
   "metadata": {},
   "outputs": [],
   "source": []
  }
 ],
 "metadata": {
  "kernelspec": {
   "display_name": "Python 3 (ipykernel)",
   "language": "python",
   "name": "python3"
  },
  "language_info": {
   "codemirror_mode": {
    "name": "ipython",
    "version": 3
   },
   "file_extension": ".py",
   "mimetype": "text/x-python",
   "name": "python",
   "nbconvert_exporter": "python",
   "pygments_lexer": "ipython3",
   "version": "3.11.5"
  }
 },
 "nbformat": 4,
 "nbformat_minor": 5
}

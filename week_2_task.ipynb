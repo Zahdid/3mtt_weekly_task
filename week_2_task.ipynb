{
 "cells": [
  {
   "cell_type": "markdown",
   "id": "8c602a90",
   "metadata": {},
   "source": [
    "# Question: Analyse a small dataset using python, documenting the step by step process of the data analysis journey."
   ]
  },
  {
   "cell_type": "markdown",
   "id": "d32d5199",
   "metadata": {},
   "source": [
    "## 1. importing python liberary"
   ]
  },
  {
   "cell_type": "code",
   "execution_count": 1,
   "id": "51adc58f",
   "metadata": {},
   "outputs": [],
   "source": [
    "# importing a pandas liberary\n",
    "import pandas as pd"
   ]
  },
  {
   "cell_type": "markdown",
   "id": "077b7961",
   "metadata": {},
   "source": [
    "## 2. uploading the dataset"
   ]
  },
  {
   "cell_type": "code",
   "execution_count": 2,
   "id": "d015f351",
   "metadata": {},
   "outputs": [],
   "source": [
    "# uploading excel dataset\n",
    "zahdid = pd.read_excel(r\"C:\\Users\\Dell\\Documents\\dont delete\\3mtt practice\\mean mode median.xlsx\")"
   ]
  },
  {
   "cell_type": "markdown",
   "id": "237d22f1",
   "metadata": {},
   "source": [
    "## 3. displaying the dataset"
   ]
  },
  {
   "cell_type": "code",
   "execution_count": 3,
   "id": "77b08450",
   "metadata": {},
   "outputs": [
    {
     "name": "stdout",
     "output_type": "stream",
     "text": [
      "   persons   age\n",
      "0        1  40.0\n",
      "1        2   2.0\n",
      "2        3  47.0\n",
      "3        4  48.0\n",
      "4        5  35.0\n",
      "5        6  26.0\n",
      "6        7  76.0\n",
      "7        8  55.0\n",
      "8        9  48.0\n",
      "9       10  96.0\n",
      "10    Mean  47.3\n",
      "11    Mode  48.0\n",
      "12  Median  47.5\n"
     ]
    }
   ],
   "source": [
    "# printing the dataset\n",
    "print(zahdid)"
   ]
  },
  {
   "cell_type": "markdown",
   "id": "e49d1016",
   "metadata": {},
   "source": [
    "## 4. viewing first five element in the dataset"
   ]
  },
  {
   "cell_type": "code",
   "execution_count": 5,
   "id": "1958bcfa",
   "metadata": {},
   "outputs": [
    {
     "data": {
      "text/html": [
       "<div>\n",
       "<style scoped>\n",
       "    .dataframe tbody tr th:only-of-type {\n",
       "        vertical-align: middle;\n",
       "    }\n",
       "\n",
       "    .dataframe tbody tr th {\n",
       "        vertical-align: top;\n",
       "    }\n",
       "\n",
       "    .dataframe thead th {\n",
       "        text-align: right;\n",
       "    }\n",
       "</style>\n",
       "<table border=\"1\" class=\"dataframe\">\n",
       "  <thead>\n",
       "    <tr style=\"text-align: right;\">\n",
       "      <th></th>\n",
       "      <th>persons</th>\n",
       "      <th>age</th>\n",
       "    </tr>\n",
       "  </thead>\n",
       "  <tbody>\n",
       "    <tr>\n",
       "      <th>0</th>\n",
       "      <td>1</td>\n",
       "      <td>40.0</td>\n",
       "    </tr>\n",
       "    <tr>\n",
       "      <th>1</th>\n",
       "      <td>2</td>\n",
       "      <td>2.0</td>\n",
       "    </tr>\n",
       "    <tr>\n",
       "      <th>2</th>\n",
       "      <td>3</td>\n",
       "      <td>47.0</td>\n",
       "    </tr>\n",
       "    <tr>\n",
       "      <th>3</th>\n",
       "      <td>4</td>\n",
       "      <td>48.0</td>\n",
       "    </tr>\n",
       "    <tr>\n",
       "      <th>4</th>\n",
       "      <td>5</td>\n",
       "      <td>35.0</td>\n",
       "    </tr>\n",
       "  </tbody>\n",
       "</table>\n",
       "</div>"
      ],
      "text/plain": [
       "  persons   age\n",
       "0       1  40.0\n",
       "1       2   2.0\n",
       "2       3  47.0\n",
       "3       4  48.0\n",
       "4       5  35.0"
      ]
     },
     "execution_count": 5,
     "metadata": {},
     "output_type": "execute_result"
    }
   ],
   "source": [
    "# printing header in dataset\n",
    "zahdid.head()"
   ]
  },
  {
   "cell_type": "markdown",
   "id": "c6869ecd",
   "metadata": {},
   "source": [
    "## 5. viewing last five element in the dataset"
   ]
  },
  {
   "cell_type": "code",
   "execution_count": 6,
   "id": "5a4b3151",
   "metadata": {},
   "outputs": [
    {
     "data": {
      "text/html": [
       "<div>\n",
       "<style scoped>\n",
       "    .dataframe tbody tr th:only-of-type {\n",
       "        vertical-align: middle;\n",
       "    }\n",
       "\n",
       "    .dataframe tbody tr th {\n",
       "        vertical-align: top;\n",
       "    }\n",
       "\n",
       "    .dataframe thead th {\n",
       "        text-align: right;\n",
       "    }\n",
       "</style>\n",
       "<table border=\"1\" class=\"dataframe\">\n",
       "  <thead>\n",
       "    <tr style=\"text-align: right;\">\n",
       "      <th></th>\n",
       "      <th>persons</th>\n",
       "      <th>age</th>\n",
       "    </tr>\n",
       "  </thead>\n",
       "  <tbody>\n",
       "    <tr>\n",
       "      <th>8</th>\n",
       "      <td>9</td>\n",
       "      <td>48.0</td>\n",
       "    </tr>\n",
       "    <tr>\n",
       "      <th>9</th>\n",
       "      <td>10</td>\n",
       "      <td>96.0</td>\n",
       "    </tr>\n",
       "    <tr>\n",
       "      <th>10</th>\n",
       "      <td>Mean</td>\n",
       "      <td>47.3</td>\n",
       "    </tr>\n",
       "    <tr>\n",
       "      <th>11</th>\n",
       "      <td>Mode</td>\n",
       "      <td>48.0</td>\n",
       "    </tr>\n",
       "    <tr>\n",
       "      <th>12</th>\n",
       "      <td>Median</td>\n",
       "      <td>47.5</td>\n",
       "    </tr>\n",
       "  </tbody>\n",
       "</table>\n",
       "</div>"
      ],
      "text/plain": [
       "   persons   age\n",
       "8        9  48.0\n",
       "9       10  96.0\n",
       "10    Mean  47.3\n",
       "11    Mode  48.0\n",
       "12  Median  47.5"
      ]
     },
     "execution_count": 6,
     "metadata": {},
     "output_type": "execute_result"
    }
   ],
   "source": [
    "# printing tails in dataset\n",
    "zahdid.tail()"
   ]
  },
  {
   "cell_type": "markdown",
   "id": "1b9df9f4",
   "metadata": {},
   "source": [
    "## 6. viewing information in the dataset"
   ]
  },
  {
   "cell_type": "code",
   "execution_count": 7,
   "id": "d4c0293a",
   "metadata": {},
   "outputs": [
    {
     "name": "stdout",
     "output_type": "stream",
     "text": [
      "<class 'pandas.core.frame.DataFrame'>\n",
      "RangeIndex: 13 entries, 0 to 12\n",
      "Data columns (total 2 columns):\n",
      " #   Column   Non-Null Count  Dtype  \n",
      "---  ------   --------------  -----  \n",
      " 0   persons  13 non-null     object \n",
      " 1   age      13 non-null     float64\n",
      "dtypes: float64(1), object(1)\n",
      "memory usage: 340.0+ bytes\n"
     ]
    }
   ],
   "source": [
    "# displaying information in dataset\n",
    "zahdid.info()"
   ]
  },
  {
   "cell_type": "code",
   "execution_count": null,
   "id": "bdc8a828",
   "metadata": {},
   "outputs": [],
   "source": []
  }
 ],
 "metadata": {
  "kernelspec": {
   "display_name": "Python 3 (ipykernel)",
   "language": "python",
   "name": "python3"
  },
  "language_info": {
   "codemirror_mode": {
    "name": "ipython",
    "version": 3
   },
   "file_extension": ".py",
   "mimetype": "text/x-python",
   "name": "python",
   "nbconvert_exporter": "python",
   "pygments_lexer": "ipython3",
   "version": "3.11.5"
  }
 },
 "nbformat": 4,
 "nbformat_minor": 5
}

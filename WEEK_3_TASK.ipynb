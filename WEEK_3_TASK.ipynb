{
 "cells": [
  {
   "cell_type": "markdown",
   "id": "751cdfbc",
   "metadata": {},
   "source": [
    "## Question: Developing Python Script That Showcases The Basics Learned In Python Programming."
   ]
  },
  {
   "cell_type": "markdown",
   "id": "191edfcd",
   "metadata": {},
   "source": [
    "### 1. Creating variables to store information about planet earth and knowing the types of variable."
   ]
  },
  {
   "cell_type": "code",
   "execution_count": 1,
   "id": "48052d0c",
   "metadata": {},
   "outputs": [],
   "source": [
    "# creating a variable\n",
    "planet_name = 'earth'\n",
    "planet_age = '4.543 billion years'\n",
    "planet_index = 2\n",
    "planet_unicode = 'U+1F728'"
   ]
  },
  {
   "cell_type": "code",
   "execution_count": 3,
   "id": "bffa3cd9",
   "metadata": {},
   "outputs": [
    {
     "name": "stdout",
     "output_type": "stream",
     "text": [
      "earth\n",
      "4.543 billion years\n",
      "2\n",
      "U+1F728\n"
     ]
    }
   ],
   "source": [
    "# printing variables\n",
    "print(planet_name)\n",
    "print(planet_age)\n",
    "print(planet_index)\n",
    "print(planet_unicode)"
   ]
  },
  {
   "cell_type": "code",
   "execution_count": 4,
   "id": "1eb2bb46",
   "metadata": {},
   "outputs": [
    {
     "name": "stdout",
     "output_type": "stream",
     "text": [
      "<class 'str'>\n",
      "<class 'str'>\n",
      "<class 'int'>\n",
      "<class 'str'>\n"
     ]
    }
   ],
   "source": [
    "# knowing the types of variables\n",
    "print(type(planet_name))\n",
    "print(type(planet_age))\n",
    "print(type(planet_index))\n",
    "print(type(planet_unicode))\n"
   ]
  },
  {
   "cell_type": "code",
   "execution_count": 10,
   "id": "22f77d1b",
   "metadata": {},
   "outputs": [
    {
     "data": {
      "text/plain": [
       "str"
      ]
     },
     "execution_count": 10,
     "metadata": {},
     "output_type": "execute_result"
    }
   ],
   "source": [
    "# Another way of knowing the types of variables.\n",
    "type(planet_name)"
   ]
  },
  {
   "cell_type": "markdown",
   "id": "5b9400fd",
   "metadata": {},
   "source": [
    "### 2. Working with a list."
   ]
  },
  {
   "cell_type": "code",
   "execution_count": 11,
   "id": "7e2fb9d0",
   "metadata": {},
   "outputs": [],
   "source": [
    "# creating a list of names\n",
    "lst_names = ['zaharadeen', 'fatima', 'aisha', 'buhari', 'khadija', 'yusuf']"
   ]
  },
  {
   "cell_type": "code",
   "execution_count": 12,
   "id": "10efb31d",
   "metadata": {},
   "outputs": [
    {
     "name": "stdout",
     "output_type": "stream",
     "text": [
      "['zaharadeen', 'fatima', 'aisha', 'buhari', 'khadija', 'yusuf']\n"
     ]
    }
   ],
   "source": [
    "print(lst_names)"
   ]
  },
  {
   "cell_type": "code",
   "execution_count": 13,
   "id": "2ecb9d58",
   "metadata": {},
   "outputs": [
    {
     "data": {
      "text/plain": [
       "6"
      ]
     },
     "execution_count": 13,
     "metadata": {},
     "output_type": "execute_result"
    }
   ],
   "source": [
    "# knowing the number of element in a list\n",
    "len(lst_names)"
   ]
  },
  {
   "cell_type": "markdown",
   "id": "4db5b126",
   "metadata": {},
   "source": [
    "### 3. Modifying a list."
   ]
  },
  {
   "cell_type": "code",
   "execution_count": 14,
   "id": "9fd9a8a1",
   "metadata": {},
   "outputs": [],
   "source": [
    "# adding element to a list\n",
    "lst_names[1] = 'yakubu'"
   ]
  },
  {
   "cell_type": "code",
   "execution_count": 16,
   "id": "09e05b05",
   "metadata": {},
   "outputs": [
    {
     "data": {
      "text/plain": [
       "['zaharadeen', 'yakubu', 'aisha', 'buhari', 'khadija', 'yusuf']"
      ]
     },
     "execution_count": 16,
     "metadata": {},
     "output_type": "execute_result"
    }
   ],
   "source": [
    "# calling the variable\n",
    "lst_names"
   ]
  },
  {
   "cell_type": "code",
   "execution_count": 17,
   "id": "81d662c9",
   "metadata": {},
   "outputs": [],
   "source": [
    "# Adding element to a list using insert function\n",
    "lst_names.insert(1, 'fatima')"
   ]
  },
  {
   "cell_type": "code",
   "execution_count": 18,
   "id": "e151d221",
   "metadata": {},
   "outputs": [
    {
     "data": {
      "text/plain": [
       "['zaharadeen', 'fatima', 'yakubu', 'aisha', 'buhari', 'khadija', 'yusuf']"
      ]
     },
     "execution_count": 18,
     "metadata": {},
     "output_type": "execute_result"
    }
   ],
   "source": [
    "# calling the variabe\n",
    "lst_names"
   ]
  },
  {
   "cell_type": "code",
   "execution_count": 19,
   "id": "c857dfbd",
   "metadata": {},
   "outputs": [],
   "source": [
    "# Adding to a list using append function\n",
    "lst_names.append('maimuna')"
   ]
  },
  {
   "cell_type": "code",
   "execution_count": 20,
   "id": "3179342d",
   "metadata": {},
   "outputs": [
    {
     "data": {
      "text/plain": [
       "['zaharadeen',\n",
       " 'fatima',\n",
       " 'yakubu',\n",
       " 'aisha',\n",
       " 'buhari',\n",
       " 'khadija',\n",
       " 'yusuf',\n",
       " 'maimuna']"
      ]
     },
     "execution_count": 20,
     "metadata": {},
     "output_type": "execute_result"
    }
   ],
   "source": [
    "# calling variabe to see output\n",
    "lst_names"
   ]
  },
  {
   "cell_type": "code",
   "execution_count": 21,
   "id": "cc5e73a6",
   "metadata": {},
   "outputs": [],
   "source": [
    "# Removing element in a list using remove function\n",
    "lst_names.remove('yusuf')"
   ]
  },
  {
   "cell_type": "code",
   "execution_count": 22,
   "id": "9f69a29b",
   "metadata": {},
   "outputs": [
    {
     "data": {
      "text/plain": [
       "['zaharadeen', 'fatima', 'yakubu', 'aisha', 'buhari', 'khadija', 'maimuna']"
      ]
     },
     "execution_count": 22,
     "metadata": {},
     "output_type": "execute_result"
    }
   ],
   "source": [
    "lst_names"
   ]
  },
  {
   "cell_type": "code",
   "execution_count": 23,
   "id": "18eed040",
   "metadata": {},
   "outputs": [
    {
     "data": {
      "text/plain": [
       "'maimuna'"
      ]
     },
     "execution_count": 23,
     "metadata": {},
     "output_type": "execute_result"
    }
   ],
   "source": [
    "# Removing element in a list using pop function\n",
    "lst_names.pop()"
   ]
  },
  {
   "cell_type": "code",
   "execution_count": 25,
   "id": "13dce74e",
   "metadata": {},
   "outputs": [],
   "source": [
    "# pop an element in a list using index\n",
    "pop_yakubu = lst_names.pop(2)"
   ]
  },
  {
   "cell_type": "code",
   "execution_count": 26,
   "id": "18744f82",
   "metadata": {},
   "outputs": [
    {
     "data": {
      "text/plain": [
       "'yakubu'"
      ]
     },
     "execution_count": 26,
     "metadata": {},
     "output_type": "execute_result"
    }
   ],
   "source": [
    "pop_yakubu"
   ]
  },
  {
   "cell_type": "code",
   "execution_count": 27,
   "id": "7dfcd66b",
   "metadata": {},
   "outputs": [
    {
     "data": {
      "text/plain": [
       "['zaharadeen', 'fatima', 'aisha', 'buhari', 'khadija']"
      ]
     },
     "execution_count": 27,
     "metadata": {},
     "output_type": "execute_result"
    }
   ],
   "source": [
    "lst_names"
   ]
  },
  {
   "cell_type": "code",
   "execution_count": 28,
   "id": "f341db63",
   "metadata": {},
   "outputs": [],
   "source": [
    "# copying a list using copy function\n",
    "lst_copy = lst_names.copy()"
   ]
  },
  {
   "cell_type": "code",
   "execution_count": 29,
   "id": "b379e760",
   "metadata": {},
   "outputs": [
    {
     "data": {
      "text/plain": [
       "['zaharadeen', 'fatima', 'aisha', 'buhari', 'khadija']"
      ]
     },
     "execution_count": 29,
     "metadata": {},
     "output_type": "execute_result"
    }
   ],
   "source": [
    "lst_copy"
   ]
  },
  {
   "cell_type": "code",
   "execution_count": 30,
   "id": "21bc3a7d",
   "metadata": {},
   "outputs": [
    {
     "data": {
      "text/plain": [
       "['zaharadeen', 'fatima', 'aisha', 'buhari', 'khadija']"
      ]
     },
     "execution_count": 30,
     "metadata": {},
     "output_type": "execute_result"
    }
   ],
   "source": [
    "lst_names"
   ]
  },
  {
   "cell_type": "code",
   "execution_count": 31,
   "id": "78581b52",
   "metadata": {},
   "outputs": [],
   "source": [
    "# sorting a list\n",
    "lst_copy.sort()"
   ]
  },
  {
   "cell_type": "code",
   "execution_count": 32,
   "id": "b9652e02",
   "metadata": {},
   "outputs": [
    {
     "data": {
      "text/plain": [
       "['aisha', 'buhari', 'fatima', 'khadija', 'zaharadeen']"
      ]
     },
     "execution_count": 32,
     "metadata": {},
     "output_type": "execute_result"
    }
   ],
   "source": [
    "lst_copy"
   ]
  },
  {
   "cell_type": "markdown",
   "id": "bf279d30",
   "metadata": {},
   "source": [
    "### 4. Performing simple mathimatical operations."
   ]
  },
  {
   "cell_type": "code",
   "execution_count": 33,
   "id": "33d29633",
   "metadata": {},
   "outputs": [],
   "source": [
    "# simple addition\n",
    "add_1 = 4 + 4"
   ]
  },
  {
   "cell_type": "code",
   "execution_count": 34,
   "id": "5691ae23",
   "metadata": {},
   "outputs": [
    {
     "data": {
      "text/plain": [
       "8"
      ]
     },
     "execution_count": 34,
     "metadata": {},
     "output_type": "execute_result"
    }
   ],
   "source": [
    "add_1"
   ]
  },
  {
   "cell_type": "code",
   "execution_count": 35,
   "id": "37e60370",
   "metadata": {},
   "outputs": [],
   "source": [
    "# simple multiplication\n",
    "mult_1 = 2 * 2"
   ]
  },
  {
   "cell_type": "code",
   "execution_count": 36,
   "id": "4593e56e",
   "metadata": {},
   "outputs": [
    {
     "data": {
      "text/plain": [
       "4"
      ]
     },
     "execution_count": 36,
     "metadata": {},
     "output_type": "execute_result"
    }
   ],
   "source": [
    "mult_1"
   ]
  },
  {
   "cell_type": "code",
   "execution_count": 37,
   "id": "653f014d",
   "metadata": {},
   "outputs": [],
   "source": [
    "# simple division\n",
    "div_1 = 24 / 2"
   ]
  },
  {
   "cell_type": "code",
   "execution_count": 38,
   "id": "fd0853b6",
   "metadata": {},
   "outputs": [
    {
     "data": {
      "text/plain": [
       "12.0"
      ]
     },
     "execution_count": 38,
     "metadata": {},
     "output_type": "execute_result"
    }
   ],
   "source": [
    "div_1"
   ]
  },
  {
   "cell_type": "markdown",
   "id": "cd07b268",
   "metadata": {},
   "source": [
    "### 5. looping through a list."
   ]
  },
  {
   "cell_type": "code",
   "execution_count": 40,
   "id": "5ac9b82d",
   "metadata": {},
   "outputs": [
    {
     "name": "stdout",
     "output_type": "stream",
     "text": [
      "aisha\n",
      "buhari\n",
      "fatima\n",
      "khadija\n",
      "zaharadeen\n"
     ]
    }
   ],
   "source": [
    "# creating a simple for_loop\n",
    "for name in lst_copy:\n",
    "    print(name)"
   ]
  },
  {
   "cell_type": "code",
   "execution_count": 41,
   "id": "77b81f51",
   "metadata": {},
   "outputs": [
    {
     "name": "stdout",
     "output_type": "stream",
     "text": [
      "\n",
      "aisha, welcome to voostec\n",
      "\n",
      "buhari, welcome to voostec\n",
      "\n",
      "fatima, welcome to voostec\n",
      "\n",
      "khadija, welcome to voostec\n",
      "\n",
      "zaharadeen, welcome to voostec\n"
     ]
    }
   ],
   "source": [
    "# Adding a message to a simple for_loop\n",
    "for names in lst_copy:\n",
    "    print(f\"\\n{names}, welcome to voostec\")"
   ]
  },
  {
   "cell_type": "code",
   "execution_count": 48,
   "id": "71efab25",
   "metadata": {},
   "outputs": [
    {
     "name": "stdout",
     "output_type": "stream",
     "text": [
      "\n",
      "aisha, welcome to voostec\n",
      "\n",
      "buhari, welcome to voostec\n",
      "\n",
      "fatima, welcome to voostec\n",
      "\n",
      "khadija, welcome to voostec\n",
      "\n",
      "zaharadeen, welcome to voostec\n",
      "\n",
      "Thank you for coming everyone, See you next week\n"
     ]
    }
   ],
   "source": [
    "# using the double print in for_loop to pass a message\n",
    "for names in lst_copy:\n",
    "    print(f\"\\n{names}, welcome to voostec\")\n",
    "print(f\"\\nThank you for coming everyone, See you next week\")\n"
   ]
  },
  {
   "cell_type": "code",
   "execution_count": null,
   "id": "14ad83d2",
   "metadata": {},
   "outputs": [],
   "source": []
  }
 ],
 "metadata": {
  "kernelspec": {
   "display_name": "Python 3 (ipykernel)",
   "language": "python",
   "name": "python3"
  },
  "language_info": {
   "codemirror_mode": {
    "name": "ipython",
    "version": 3
   },
   "file_extension": ".py",
   "mimetype": "text/x-python",
   "name": "python",
   "nbconvert_exporter": "python",
   "pygments_lexer": "ipython3",
   "version": "3.11.5"
  }
 },
 "nbformat": 4,
 "nbformat_minor": 5
}
